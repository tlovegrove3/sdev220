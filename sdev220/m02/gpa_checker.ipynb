{
 "cells": [
  {
   "cell_type": "code",
   "execution_count": 1,
   "metadata": {},
   "outputs": [
    {
     "name": "stdout",
     "output_type": "stream",
     "text": [
      "You entered Lovegrove.\n",
      "Hello Terry Lovegrove.\n",
      "Your gpa is 4.0.\n",
      "You made the Dean's list!\n",
      "\n",
      "You entered Smith.\n",
      "Hello David Smith.\n",
      "Your gpa is 2.24.\n",
      "You did not make the Dean's List or the Honor roll.\n",
      "\n",
      "You entered Kent.\n",
      "Hello Clark Kent.\n",
      "Your gpa is 3.25.\n",
      "You made the Honor roll!\n",
      "\n",
      "You entered Davis.\n",
      "Hello Jim Davis.\n",
      "Your gpa is 3.24.\n",
      "You did not make the Dean's List or the Honor roll.\n",
      "\n",
      "You entered Jones.\n",
      "Hello Indiana Jones.\n",
      "Your gpa is 1.9.\n",
      "You did not make the Dean's List or the Honor roll.\n",
      "\n"
     ]
    }
   ],
   "source": [
    "\"\"\"\n",
    "Author: Terry Lovegrove\n",
    "File: gpa_checker.ipynb\n",
    "Date: 2025-01-24\n",
    "Assignment: Module 2 Lab - Case Study: if...else and while\n",
    "Purpose: Get student GPA info to test for Honor Roll vs Dean's list qualifiers\n",
    "\n",
    "\"\"\"\n",
    "# Set Defaults\n",
    "\n",
    "DEANS_LIST = 3.5\n",
    "HONOR_ROLL = 3.25\n",
    "gpa = 0\n",
    "first_name = ''\n",
    "last_name = input(\"Enter your last name, or enter 'ZZZ' to quit.\\n\")\n",
    "\n",
    "while last_name != \"ZZZ\":\n",
    "    print(f\"You entered {last_name}.\")\n",
    "    first_name = input(\"Thanks! Now please enter your first name to continue.\\n\")\n",
    "    print(f\"Hello {first_name} {last_name}.\")\n",
    "    gpa = float(input(\"Please enter your GPA.\\n\"))\n",
    "    print(f\"Your gpa is {gpa}.\")\n",
    "    if gpa >= DEANS_LIST:\n",
    "        print(\"You made the Dean's list!\\n\")\n",
    "    elif gpa >= HONOR_ROLL:\n",
    "        print(\"You made the Honor roll!\\n\")\n",
    "    else:\n",
    "        print(\"You did not make the Dean's List or the Honor roll.\\n\")\n",
    "    last_name = input(\"Enter your last name, or enter 'ZZZ' to quit.\\n\")"
   ]
  }
 ],
 "metadata": {
  "kernelspec": {
   "display_name": "base",
   "language": "python",
   "name": "python3"
  },
  "language_info": {
   "codemirror_mode": {
    "name": "ipython",
    "version": 3
   },
   "file_extension": ".py",
   "mimetype": "text/x-python",
   "name": "python",
   "nbconvert_exporter": "python",
   "pygments_lexer": "ipython3",
   "version": "3.12.7"
  }
 },
 "nbformat": 4,
 "nbformat_minor": 2
}
