{
 "cells": [
  {
   "cell_type": "code",
   "execution_count": 1,
   "metadata": {},
   "outputs": [
    {
     "name": "stdout",
     "output_type": "stream",
     "text": [
      "Last name cannot be empty. Please try again.\n",
      "First name cannot be empty. Please try again.\n",
      "Hello Terry Lovegrove.\n",
      "Your GPA is 4.0.\n",
      "You made the Dean's list!\n",
      "\n",
      "Hello Jon Smith.\n",
      "Invalid input: GPA must be between 0 and 4.0.. Please enter a valid GPA.\n",
      "Your GPA is 3.5.\n",
      "You made the Dean's list!\n",
      "\n",
      "Hello Apple Crisp.\n",
      "Your GPA is 3.25.\n",
      "You made the Honor roll!\n",
      "\n",
      "First name cannot be empty. Please try again.\n",
      "Hello Mr. Anderson.\n",
      "Your GPA is 1.9.\n",
      "You did not make the Dean's List or the Honor roll.\n",
      "\n",
      "Hello James Bond.\n",
      "Your GPA is 3.4999.\n",
      "You made the Honor roll!\n",
      "\n"
     ]
    }
   ],
   "source": [
    "\"\"\"\n",
    "Author: Terry Lovegrove\n",
    "File: m02-lab_gpa_qualifier_lovegrove.py\n",
    "Date: 2025-01-24\n",
    "Assignment: Module 2 Lab - Case Study: if...else and while\n",
    "Purpose: Get student GPA info to test for Honor Roll vs Dean's list qualifiers\n",
    "\"\"\"\n",
    "\n",
    "# Set Defaults\n",
    "DEANS_LIST = 3.5\n",
    "HONOR_ROLL = 3.25\n",
    "\n",
    "while True:\n",
    "    last_name = input(\"Enter your last name, or enter 'ZZZ' to quit.\\n\").strip()\n",
    "    if last_name.upper() == \"ZZZ\":\n",
    "        break\n",
    "    if last_name == \"\":\n",
    "        print(\"Last name cannot be empty. Please try again.\")\n",
    "        continue\n",
    "\n",
    "    first_name = input(\"Thanks! Now please enter your first name to continue.\\n\").strip()\n",
    "    if first_name == \"\":\n",
    "        print(\"First name cannot be empty. Please try again.\")\n",
    "        continue\n",
    "\n",
    "    print(f\"Hello {first_name} {last_name}.\")\n",
    "    \n",
    "    while True:\n",
    "        try:\n",
    "            gpa = float(input(\"Enter your GPA: \"))\n",
    "            if gpa < 0 or gpa > 4.0:\n",
    "                raise ValueError(\"GPA must be between 0 and 4.0.\")\n",
    "            break\n",
    "        except ValueError as e:\n",
    "            print(f\"Invalid input: {e}. Please enter a valid GPA.\")\n",
    "\n",
    "    print(f\"Your GPA is {gpa}.\")\n",
    "    if gpa >= DEANS_LIST:\n",
    "        print(\"You made the Dean's list!\\n\")\n",
    "    elif gpa >= HONOR_ROLL:\n",
    "        print(\"You made the Honor roll!\\n\")\n",
    "    else:\n",
    "        print(\"You did not make the Dean's List or the Honor roll.\\n\")\n"
   ]
  }
 ],
 "metadata": {
  "kernelspec": {
   "display_name": "base",
   "language": "python",
   "name": "python3"
  },
  "language_info": {
   "codemirror_mode": {
    "name": "ipython",
    "version": 3
   },
   "file_extension": ".py",
   "mimetype": "text/x-python",
   "name": "python",
   "nbconvert_exporter": "python",
   "pygments_lexer": "ipython3",
   "version": "3.12.7"
  }
 },
 "nbformat": 4,
 "nbformat_minor": 2
}
